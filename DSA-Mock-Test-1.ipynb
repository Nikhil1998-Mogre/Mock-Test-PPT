{
 "cells": [
  {
   "cell_type": "code",
   "execution_count": 50,
   "id": "f380ba1b",
   "metadata": {},
   "outputs": [],
   "source": [
    "nums=[0,1,0,3,12]\n",
    "# nums= [0]"
   ]
  },
  {
   "cell_type": "code",
   "execution_count": 51,
   "id": "fd700f22",
   "metadata": {},
   "outputs": [
    {
     "name": "stdout",
     "output_type": "stream",
     "text": [
      "[1, 3, 12, 0, 0]\n"
     ]
    }
   ],
   "source": [
    "# 1\n",
    "m=0\n",
    "for i in range(len(nums)-1):\n",
    "    if nums[i]==nums[i+1]:\n",
    "        pass\n",
    "    elif nums[i]==0 and nums[i+1]!=0:\n",
    "            nums[m],nums[i+1]=nums[i+1],nums[m]\n",
    "            m+=1\n",
    "print(nums)"
   ]
  },
  {
   "cell_type": "code",
   "execution_count": 52,
   "id": "f0db2fa5",
   "metadata": {},
   "outputs": [],
   "source": [
    "nums=[0,1,0,3,12]"
   ]
  },
  {
   "cell_type": "code",
   "execution_count": 53,
   "id": "a594f47a",
   "metadata": {},
   "outputs": [
    {
     "name": "stdout",
     "output_type": "stream",
     "text": [
      "[1, 3, 12, 0, 0]\n"
     ]
    }
   ],
   "source": [
    "# 2\n",
    "l1=[]\n",
    "l2=[]\n",
    "for i in nums:\n",
    "    if i!=0:\n",
    "        l1.append(i)\n",
    "    else:\n",
    "        l2.append(i)\n",
    "        \n",
    "print(l1+l2)"
   ]
  },
  {
   "cell_type": "code",
   "execution_count": null,
   "id": "74f3283f",
   "metadata": {},
   "outputs": [],
   "source": []
  },
  {
   "cell_type": "code",
   "execution_count": null,
   "id": "367e7765",
   "metadata": {},
   "outputs": [],
   "source": []
  }
 ],
 "metadata": {
  "kernelspec": {
   "display_name": "Python 3 (ipykernel)",
   "language": "python",
   "name": "python3"
  },
  "language_info": {
   "codemirror_mode": {
    "name": "ipython",
    "version": 3
   },
   "file_extension": ".py",
   "mimetype": "text/x-python",
   "name": "python",
   "nbconvert_exporter": "python",
   "pygments_lexer": "ipython3",
   "version": "3.10.9"
  }
 },
 "nbformat": 4,
 "nbformat_minor": 5
}
